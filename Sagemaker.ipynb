{
 "cells": [
  {
   "cell_type": "markdown",
   "metadata": {},
   "source": [
    "### Set up"
   ]
  },
  {
   "cell_type": "markdown",
   "metadata": {},
   "source": [
    "#### 1. Set  up  accounts and role"
   ]
  },
  {
   "cell_type": "code",
   "execution_count": 1,
   "metadata": {},
   "outputs": [],
   "source": [
    "import sagemaker\n",
    "import boto3\n",
    "\n",
    "sagemaker_session = sagemaker.Session()\n",
    "account_id =  boto3.client('sts').get_caller_identity().get('Account')\n",
    "region = boto3.session.Session().region_name\n",
    "\n",
    "\n",
    "#role = sagemaker.get_execution_role()\n",
    "role=\"arn:aws:iam::{}:role/service-role/AmazonSageMaker-ExecutionRole-20190118T115449\".format(account_id)\n"
   ]
  },
  {
   "cell_type": "markdown",
   "metadata": {},
   "source": [
    "#### 2. Setup image and instance type"
   ]
  },
  {
   "cell_type": "code",
   "execution_count": 2,
   "metadata": {},
   "outputs": [],
   "source": [
    "pytorch_custom_image_name=\"character-embedding:gpu-1.0.0-201908270722\"\n",
    "instance_type = \"ml.p3.2xlarge\" "
   ]
  },
  {
   "cell_type": "code",
   "execution_count": 3,
   "metadata": {},
   "outputs": [],
   "source": [
    "docker_repo = \"{}.dkr.ecr.{}.amazonaws.com/{}\".format(account_id, region, pytorch_custom_image_name)"
   ]
  },
  {
   "cell_type": "markdown",
   "metadata": {},
   "source": [
    "#### 3. Configure train/ test and validation datasets"
   ]
  },
  {
   "cell_type": "code",
   "execution_count": 4,
   "metadata": {},
   "outputs": [],
   "source": [
    "bucket = sagemaker_session.default_bucket()"
   ]
  },
  {
   "cell_type": "code",
   "execution_count": 5,
   "metadata": {},
   "outputs": [],
   "source": [
    "train = \"s3://{}/email_mock_train/\".format(bucket)\n",
    "test=\"s3://{}/email_mock_test/\".format(bucket)\n",
    "val=\"s3://{}/email_mock_val/\".format(bucket)\n",
    "s3_output_path= \"s3://{}/email_mock_model/\".format(bucket)"
   ]
  },
  {
   "cell_type": "markdown",
   "metadata": {},
   "source": [
    "### Start training"
   ]
  },
  {
   "cell_type": "code",
   "execution_count": 6,
   "metadata": {},
   "outputs": [],
   "source": [
    "inputs = {\n",
    "    \"train\" : train,\n",
    "    \"val\" :val\n",
    "}"
   ]
  },
  {
   "cell_type": "code",
   "execution_count": 7,
   "metadata": {},
   "outputs": [],
   "source": [
    "hyperparameters = {\n",
    "    \"batchsize\": \"32\",\n",
    "    \"epochs\" : \"1000\",\n",
    "    \"log-level\" : \"INFO\"\n",
    "}"
   ]
  },
  {
   "cell_type": "code",
   "execution_count": 8,
   "metadata": {},
   "outputs": [],
   "source": [
    "metric_definitions = [{\"Name\": \"TrainLoss\",\n",
    "                     \"Regex\": \"###score: train_loss### (\\d*[.]?\\d*)\"}\n",
    "                    ,{\"Name\": \"ValidationLoss\",\n",
    "                     \"Regex\": \"###score: val_loss### (\\d*[.]?\\d*)\"}\n",
    "                    ,{\"Name\": \"TrainAccuracy\",\n",
    "                     \"Regex\": \"###score: train_accuracy### (\\d*[.]?\\d*)\"}\n",
    "                   ,{\"Name\": \"ValidationAccuracy\",\n",
    "                     \"Regex\": \"###score: val_accuracy### (\\d*[.]?\\d*)\"}\n",
    "                    ]"
   ]
  },
  {
   "cell_type": "code",
   "execution_count": 12,
   "metadata": {},
   "outputs": [],
   "source": [
    "from sagemaker.pytorch import PyTorch\n",
    "\n",
    "estimator = PyTorch(\n",
    "     entry_point='experiment_email.py',\n",
    "                    source_dir = 'src',\n",
    "                    dependencies =['src'],\n",
    "                    role=role,\n",
    "                    framework_version =\"1.0.0\",\n",
    "                    py_version='py3',\n",
    "                    image_name= docker_repo,\n",
    "                    train_instance_count=1,\n",
    "                    train_instance_type=instance_type,\n",
    "                    hyperparameters =hyperparameters,\n",
    "                    output_path=s3_output_path,\n",
    "                    metric_definitions=metric_definitions,\n",
    "                    #train_use_spot_instances = True\n",
    "                    base_job_name =\"Character-embedding-adam\")"
   ]
  },
  {
   "cell_type": "code",
   "execution_count": null,
   "metadata": {},
   "outputs": [
    {
     "name": "stdout",
     "output_type": "stream",
     "text": [
      "2019-08-28 03:51:07 Starting - Starting the training job...\n",
      "2019-08-28 03:51:09 Starting - Launching requested ML instances...\n",
      "2019-08-28 03:52:05 Starting - Preparing the instances for training...\n",
      "2019-08-28 03:52:44 Downloading - Downloading input data...\n",
      "2019-08-28 03:52:58 Training - Downloading the training image.......\n",
      "\u001b[31mbash: cannot set terminal process group (-1): Inappropriate ioctl for device\u001b[0m\n",
      "\u001b[31mbash: no job control in this shell\u001b[0m\n",
      "\u001b[31m2019-08-28 03:54:35,150 sagemaker-containers INFO     Imported framework sagemaker_pytorch_container.training\u001b[0m\n",
      "\u001b[31m2019-08-28 03:54:35,175 sagemaker_pytorch_container.training INFO     Block until all host DNS lookups succeed.\u001b[0m\n",
      "\u001b[31m2019-08-28 03:54:36,587 sagemaker_pytorch_container.training INFO     Invoking user training script.\u001b[0m\n",
      "\u001b[31m2019-08-28 03:54:36,878 sagemaker-containers INFO     Installing module with the following command:\u001b[0m\n",
      "\u001b[31m/usr/bin/python -m pip install -U . \u001b[0m\n",
      "\u001b[31mProcessing /opt/ml/code\u001b[0m\n",
      "\u001b[31mBuilding wheels for collected packages: character-embedding\n",
      "  Running setup.py bdist_wheel for character-embedding: started\u001b[0m\n",
      "\u001b[31m  Running setup.py bdist_wheel for character-embedding: finished with status 'done'\n",
      "  Stored in directory: /tmp/pip-ephem-wheel-cache-n1eu7cxe/wheels/35/24/16/37574d11bf9bde50616c67372a334f94fa8356bc7164af8ca3\u001b[0m\n",
      "\u001b[31mSuccessfully built character-embedding\u001b[0m\n",
      "\u001b[31mInstalling collected packages: character-embedding\u001b[0m\n",
      "\u001b[31mSuccessfully installed character-embedding-0.1\u001b[0m\n",
      "\u001b[31mYou are using pip version 18.1, however version 19.2.3 is available.\u001b[0m\n",
      "\u001b[31mYou should consider upgrading via the 'pip install --upgrade pip' command.\u001b[0m\n",
      "\u001b[31m2019-08-28 03:54:38,723 sagemaker-containers INFO     Invoking user script\n",
      "\u001b[0m\n",
      "\u001b[31mTraining Env:\n",
      "\u001b[0m\n",
      "\u001b[31m{\n",
      "    \"additional_framework_parameters\": {},\n",
      "    \"channel_input_dirs\": {\n",
      "        \"val\": \"/opt/ml/input/data/val\",\n",
      "        \"train\": \"/opt/ml/input/data/train\"\n",
      "    },\n",
      "    \"current_host\": \"algo-1\",\n",
      "    \"framework_module\": \"sagemaker_pytorch_container.training:main\",\n",
      "    \"hosts\": [\n",
      "        \"algo-1\"\n",
      "    ],\n",
      "    \"hyperparameters\": {\n",
      "        \"log-level\": \"INFO\",\n",
      "        \"batchsize\": \"32\",\n",
      "        \"epochs\": \"200\"\n",
      "    },\n",
      "    \"input_config_dir\": \"/opt/ml/input/config\",\n",
      "    \"input_data_config\": {\n",
      "        \"val\": {\n",
      "            \"TrainingInputMode\": \"File\",\n",
      "            \"S3DistributionType\": \"FullyReplicated\",\n",
      "            \"RecordWrapperType\": \"None\"\n",
      "        },\n",
      "        \"train\": {\n",
      "            \"TrainingInputMode\": \"File\",\n",
      "            \"S3DistributionType\": \"FullyReplicated\",\n",
      "            \"RecordWrapperType\": \"None\"\n",
      "        }\n",
      "    },\n",
      "    \"input_dir\": \"/opt/ml/input\",\n",
      "    \"is_master\": true,\n",
      "    \"job_name\": \"Character-embedding-adam-2019-08-28-03-50-21-466\",\n",
      "    \"log_level\": 20,\n",
      "    \"master_hostname\": \"algo-1\",\n",
      "    \"model_dir\": \"/opt/ml/model\",\n",
      "    \"module_dir\": \"s3://sagemaker-us-east-2-324346001917/Character-embedding-adam-2019-08-28-03-50-21-466/source/sourcedir.tar.gz\",\n",
      "    \"module_name\": \"experiment_email\",\n",
      "    \"network_interface_name\": \"eth0\",\n",
      "    \"num_cpus\": 8,\n",
      "    \"num_gpus\": 1,\n",
      "    \"output_data_dir\": \"/opt/ml/output/data\",\n",
      "    \"output_dir\": \"/opt/ml/output\",\n",
      "    \"output_intermediate_dir\": \"/opt/ml/output/intermediate\",\n",
      "    \"resource_config\": {\n",
      "        \"current_host\": \"algo-1\",\n",
      "        \"hosts\": [\n",
      "            \"algo-1\"\n",
      "        ],\n",
      "        \"network_interface_name\": \"eth0\"\n",
      "    },\n",
      "    \"user_entry_point\": \"experiment_email.py\"\u001b[0m\n",
      "\u001b[31m}\n",
      "\u001b[0m\n",
      "\u001b[31mEnvironment variables:\n",
      "\u001b[0m\n",
      "\u001b[31mSM_HOSTS=[\"algo-1\"]\u001b[0m\n",
      "\u001b[31mSM_NETWORK_INTERFACE_NAME=eth0\u001b[0m\n",
      "\u001b[31mSM_HPS={\"batchsize\":\"32\",\"epochs\":\"200\",\"log-level\":\"INFO\"}\u001b[0m\n",
      "\u001b[31mSM_USER_ENTRY_POINT=experiment_email.py\u001b[0m\n",
      "\u001b[31mSM_FRAMEWORK_PARAMS={}\u001b[0m\n",
      "\u001b[31mSM_RESOURCE_CONFIG={\"current_host\":\"algo-1\",\"hosts\":[\"algo-1\"],\"network_interface_name\":\"eth0\"}\u001b[0m\n",
      "\u001b[31mSM_INPUT_DATA_CONFIG={\"train\":{\"RecordWrapperType\":\"None\",\"S3DistributionType\":\"FullyReplicated\",\"TrainingInputMode\":\"File\"},\"val\":{\"RecordWrapperType\":\"None\",\"S3DistributionType\":\"FullyReplicated\",\"TrainingInputMode\":\"File\"}}\u001b[0m\n",
      "\u001b[31mSM_OUTPUT_DATA_DIR=/opt/ml/output/data\u001b[0m\n",
      "\u001b[31mSM_CHANNELS=[\"train\",\"val\"]\u001b[0m\n",
      "\u001b[31mSM_CURRENT_HOST=algo-1\u001b[0m\n",
      "\u001b[31mSM_MODULE_NAME=experiment_email\u001b[0m\n",
      "\u001b[31mSM_LOG_LEVEL=20\u001b[0m\n",
      "\u001b[31mSM_FRAMEWORK_MODULE=sagemaker_pytorch_container.training:main\u001b[0m\n",
      "\u001b[31mSM_INPUT_DIR=/opt/ml/input\u001b[0m\n",
      "\u001b[31mSM_INPUT_CONFIG_DIR=/opt/ml/input/config\u001b[0m\n",
      "\u001b[31mSM_OUTPUT_DIR=/opt/ml/output\u001b[0m\n",
      "\u001b[31mSM_NUM_CPUS=8\u001b[0m\n",
      "\u001b[31mSM_NUM_GPUS=1\u001b[0m\n",
      "\u001b[31mSM_MODEL_DIR=/opt/ml/model\u001b[0m\n",
      "\u001b[31mSM_MODULE_DIR=s3://sagemaker-us-east-2-324346001917/Character-embedding-adam-2019-08-28-03-50-21-466/source/sourcedir.tar.gz\u001b[0m\n",
      "\u001b[31mSM_TRAINING_ENV={\"additional_framework_parameters\":{},\"channel_input_dirs\":{\"train\":\"/opt/ml/input/data/train\",\"val\":\"/opt/ml/input/data/val\"},\"current_host\":\"algo-1\",\"framework_module\":\"sagemaker_pytorch_container.training:main\",\"hosts\":[\"algo-1\"],\"hyperparameters\":{\"batchsize\":\"32\",\"epochs\":\"200\",\"log-level\":\"INFO\"},\"input_config_dir\":\"/opt/ml/input/config\",\"input_data_config\":{\"train\":{\"RecordWrapperType\":\"None\",\"S3DistributionType\":\"FullyReplicated\",\"TrainingInputMode\":\"File\"},\"val\":{\"RecordWrapperType\":\"None\",\"S3DistributionType\":\"FullyReplicated\",\"TrainingInputMode\":\"File\"}},\"input_dir\":\"/opt/ml/input\",\"is_master\":true,\"job_name\":\"Character-embedding-adam-2019-08-28-03-50-21-466\",\"log_level\":20,\"master_hostname\":\"algo-1\",\"model_dir\":\"/opt/ml/model\",\"module_dir\":\"s3://sagemaker-us-east-2-324346001917/Character-embedding-adam-2019-08-28-03-50-21-466/source/sourcedir.tar.gz\",\"module_name\":\"experiment_email\",\"network_interface_name\":\"eth0\",\"num_cpus\":8,\"num_gpus\":1,\"output_data_dir\":\"/opt/ml/output/data\",\"output_dir\":\"/opt/ml/output\",\"output_intermediate_dir\":\"/opt/ml/output/intermediate\",\"resource_config\":{\"current_host\":\"algo-1\",\"hosts\":[\"algo-1\"],\"network_interface_name\":\"eth0\"},\"user_entry_point\":\"experiment_email.py\"}\u001b[0m\n",
      "\u001b[31mSM_USER_ARGS=[\"--batchsize\",\"32\",\"--epochs\",\"200\",\"--log-level\",\"INFO\"]\u001b[0m\n",
      "\u001b[31mSM_OUTPUT_INTERMEDIATE_DIR=/opt/ml/output/intermediate\u001b[0m\n",
      "\u001b[31mSM_CHANNEL_VAL=/opt/ml/input/data/val\u001b[0m\n",
      "\u001b[31mSM_CHANNEL_TRAIN=/opt/ml/input/data/train\u001b[0m\n",
      "\u001b[31mSM_HP_LOG-LEVEL=INFO\u001b[0m\n",
      "\u001b[31mSM_HP_BATCHSIZE=32\u001b[0m\n",
      "\u001b[31mSM_HP_EPOCHS=200\u001b[0m\n",
      "\u001b[31mPYTHONPATH=/usr/local/bin:/usr/lib/python36.zip:/usr/lib/python3.6:/usr/lib/python3.6/lib-dynload:/usr/local/lib/python3.6/dist-packages:/usr/lib/python3/dist-packages\n",
      "\u001b[0m\n",
      "\u001b[31mInvoking script with the following command:\n",
      "\u001b[0m\n",
      "\u001b[31m/usr/bin/python -m experiment_email --batchsize 32 --epochs 200 --log-level INFO\n",
      "\n",
      "\u001b[0m\n",
      "\u001b[31m{'traindir': '/opt/ml/input/data/train', 'valdir': '/opt/ml/input/data/val', 'outdir': '/opt/ml/model', 'batchsize': 32, 'epochs': 200, 'log_level': 'INFO'}\u001b[0m\n",
      "\u001b[31m2019-08-28 03:54:40,121 - datasets.email_dataset - INFO - Loading file /opt/ml/input/data/train/train.csv\u001b[0m\n",
      "\u001b[31m2019-08-28 03:54:40,336 - datasets.email_dataset - INFO - Loading file /opt/ml/input/data/val/val.csv\u001b[0m\n",
      "\u001b[31m2019-08-28 03:54:40,447 - data_pipeline - INFO - Running transform text_to_index\u001b[0m\n",
      "\u001b[31m2019-08-28 03:54:40,447 - data_pipeline - INFO - Completed transform text_to_index\u001b[0m\n",
      "\u001b[31m2019-08-28 03:54:40,447 - data_pipeline - INFO - Running transform merge_tensor\u001b[0m\n",
      "\u001b[31m2019-08-28 03:54:40,447 - data_pipeline - INFO - Completed transform merge_tensor\u001b[0m\n",
      "\u001b[31m2019-08-28 03:54:45,488 - transform_label_encoder - INFO - Running TransformLabelEncoder\u001b[0m\n",
      "\u001b[31m2019-08-28 03:54:45,534 - transform_label_encoder - INFO - Complete TransformLabelEncoder\u001b[0m\n",
      "\u001b[31m2019-08-28 03:54:46,083 - train - INFO - Running training...\u001b[0m\n",
      "\n",
      "2019-08-28 03:54:34 Training - Training image download completed. Training in progress.\u001b[31mTrain Confusion matrix,  \u001b[0m\n",
      "\u001b[31m[[ 11220   8618]\n",
      " [   481 197893]]\u001b[0m\n",
      "\u001b[31mValidation  Confusion matrix,  \u001b[0m\n",
      "\u001b[31m[[ 4897    62]\n",
      " [   15 49579]]\u001b[0m\n",
      "\u001b[31m###score: train_loss### 945.3131173392758\u001b[0m\n",
      "\u001b[31m###score: val_loss### 8.632015014067292\u001b[0m\n",
      "\u001b[31m###score: train_accuracy### 95.83020782470703\u001b[0m\n",
      "\u001b[31m###score: val_accuracy### 99.85885620117188\u001b[0m\n",
      "\u001b[31m2019-08-28 03:56:16,039 - train - INFO - epoch: 0, train_loss 945.3131173392758, val_loss 8.632015014067292, train_accuracy 95.83020782470703, val_accuracy 99.85885620117188\u001b[0m\n",
      "\u001b[31mTrain Confusion matrix,  \u001b[0m\n",
      "\u001b[31m[[ 19691    147]\n",
      " [    69 198305]]\u001b[0m\n"
     ]
    },
    {
     "name": "stdout",
     "output_type": "stream",
     "text": [
      "\u001b[31mValidation  Confusion matrix,  \u001b[0m\n",
      "\u001b[31m[[ 4940    19]\n",
      " [   60 49534]]\u001b[0m\n",
      "\u001b[31m###score: train_loss### 23.86510725133121\u001b[0m\n",
      "\u001b[31m###score: val_loss### 9.231972955167294\u001b[0m\n",
      "\u001b[31m###score: train_accuracy### 99.90101623535156\u001b[0m\n",
      "\u001b[31m###score: val_accuracy### 99.85519409179688\u001b[0m\n",
      "\u001b[31m2019-08-28 03:57:41,015 - train - INFO - epoch: 1, train_loss 23.86510725133121, val_loss 9.231972955167294, train_accuracy 99.90101623535156, val_accuracy 99.85519409179688\u001b[0m\n",
      "\u001b[31mTrain Confusion matrix,  \u001b[0m\n",
      "\u001b[31m[[ 19724    114]\n",
      " [    60 198314]]\u001b[0m\n",
      "\u001b[31mValidation  Confusion matrix,  \u001b[0m\n",
      "\u001b[31m[[ 4916    43]\n",
      " [   10 49584]]\u001b[0m\n",
      "\u001b[31m2019-08-28 03:59:05,805 - model_snapshotter - INFO - Snappshotting model to /opt/ml/model/snapshot_lowest_loss_model.pt \u001b[0m\n",
      "\u001b[31m###score: train_loss### 17.75984643213451\u001b[0m\n",
      "\u001b[31m###score: val_loss### 5.942366420291364\u001b[0m\n",
      "\u001b[31m###score: train_accuracy### 99.9202651977539\u001b[0m\n",
      "\u001b[31m###score: val_accuracy### 99.9028549194336\u001b[0m\n",
      "\u001b[31m2019-08-28 03:59:05,826 - train - INFO - epoch: 2, train_loss 17.75984643213451, val_loss 5.942366420291364, train_accuracy 99.9202651977539, val_accuracy 99.9028549194336\u001b[0m\n"
     ]
    }
   ],
   "source": [
    "estimator.fit(inputs)"
   ]
  }
 ],
 "metadata": {
  "kernelspec": {
   "display_name": "Python 3",
   "language": "python",
   "name": "python3"
  },
  "language_info": {
   "codemirror_mode": {
    "name": "ipython",
    "version": 3
   },
   "file_extension": ".py",
   "mimetype": "text/x-python",
   "name": "python",
   "nbconvert_exporter": "python",
   "pygments_lexer": "ipython3",
   "version": "3.6.8"
  }
 },
 "nbformat": 4,
 "nbformat_minor": 1
}
